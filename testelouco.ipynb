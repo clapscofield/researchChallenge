{
 "cells": [
  {
   "cell_type": "code",
   "execution_count": 1,
   "id": "cc720bc5",
   "metadata": {},
   "outputs": [],
   "source": [
    "import pandas as pd\n",
    "import numpy as np\n",
    "\n",
    "\n",
    "treino = pd.read_json(\"ratings.jsonl\", lines=True)\n",
    "conteudo = pd.read_json(\"content.jsonl\", lines=True) \n",
    "teste = pd.read_csv(\"targets.csv\")"
   ]
  },
  {
   "cell_type": "code",
   "execution_count": 2,
   "id": "51bb2758",
   "metadata": {},
   "outputs": [
    {
     "data": {
      "text/plain": [
       "0    A man (Edison's assistant) takes a pinch of sn...\n",
       "1    A man opens the big gates to the Lumière facto...\n",
       "2    A group of people are standing in a straight l...\n",
       "3    Although the content of this film is primitive...\n",
       "4    A bat flies into an ancient castle and transfo...\n",
       "Name: Plot, dtype: object"
      ]
     },
     "execution_count": 2,
     "metadata": {},
     "output_type": "execute_result"
    }
   ],
   "source": [
    "conteudo['Plot'].head(5)"
   ]
  },
  {
   "cell_type": "code",
   "execution_count": 3,
   "id": "82045287",
   "metadata": {},
   "outputs": [
    {
     "data": {
      "text/plain": [
       "(38012, 79207)"
      ]
     },
     "execution_count": 3,
     "metadata": {},
     "output_type": "execute_result"
    }
   ],
   "source": [
    "#Import TfIdfVectorizer from scikit-learn\n",
    "from sklearn.feature_extraction.text import TfidfVectorizer\n",
    "\n",
    "#Define a TF-IDF Vectorizer Object. Remove all english stop words such as 'the', 'a'\n",
    "tfidf = TfidfVectorizer(stop_words='english')\n",
    "\n",
    "#Replace NaN with an empty string\n",
    "conteudo['Plot'] = conteudo['Plot'].fillna('')\n",
    "\n",
    "#Construct the required TF-IDF matrix by fitting and transforming the data\n",
    "tfidf_matrix = tfidf.fit_transform(conteudo['Plot'])\n",
    "\n",
    "#Output the shape of tfidf_matrix\n",
    "tfidf_matrix.shape"
   ]
  },
  {
   "cell_type": "code",
   "execution_count": 4,
   "id": "21a5eb00",
   "metadata": {},
   "outputs": [],
   "source": [
    "# Import linear_kernel\n",
    "from sklearn.metrics.pairwise import linear_kernel\n",
    "\n",
    "# Compute the cosine similarity matrix\n",
    "cosine_sim = linear_kernel(tfidf_matrix, tfidf_matrix)"
   ]
  },
  {
   "cell_type": "code",
   "execution_count": 5,
   "id": "fba838cd",
   "metadata": {},
   "outputs": [],
   "source": [
    "#Construct a reverse map of indices and movie titles\n",
    "indices = pd.Series(conteudo.index, index=conteudo['Title']).drop_duplicates()"
   ]
  },
  {
   "cell_type": "code",
   "execution_count": 6,
   "id": "76db6502",
   "metadata": {},
   "outputs": [
    {
     "name": "stdout",
     "output_type": "stream",
     "text": [
      "Title\n",
      "Edison Kinetoscopic Record of a Sneeze               0\n",
      "Leaving the Factory                                  1\n",
      "The Arrival of a Train                               2\n",
      "The Oxford and Cambridge University Boat Race        3\n",
      "The House of the Devil                               4\n",
      "                                                 ...  \n",
      "Yara                                             38007\n",
      "Lords of Scam                                    38008\n",
      "Cash                                             38009\n",
      "Sompoy                                           38010\n",
      "The Making of 'Rocky vs. Drago'                  38011\n",
      "Length: 38012, dtype: int64\n"
     ]
    }
   ],
   "source": [
    "print(indices)"
   ]
  },
  {
   "cell_type": "code",
   "execution_count": 7,
   "id": "9ba375f7",
   "metadata": {},
   "outputs": [],
   "source": [
    "# Function that takes in movie title as input and outputs most similar movies\n",
    "def get_recommendations(title, cosine_sim=cosine_sim):\n",
    "    # Get the index of the movie that matches the title\n",
    "    idx = indices[title]\n",
    "\n",
    "    # Get the pairwsie similarity scores of all movies with that movie\n",
    "    sim_scores = list(enumerate(cosine_sim[idx]))\n",
    "\n",
    "    # Sort the movies based on the similarity scores\n",
    "    sim_scores = sorted(sim_scores, key=lambda x: x[1], reverse=True)\n",
    "\n",
    "    # Get the scores of the 10 most similar movies\n",
    "    sim_scores = sim_scores[1:11]\n",
    "\n",
    "    # Get the movie indices\n",
    "    movie_indices = [i[0] for i in sim_scores]\n",
    "\n",
    "    # Return the top 10 most similar movies\n",
    "    return conteudo['Title'].iloc[movie_indices]"
   ]
  },
  {
   "cell_type": "code",
   "execution_count": 8,
   "id": "f51c2373",
   "metadata": {},
   "outputs": [
    {
     "data": {
      "text/plain": [
       "15199                                      The Dark Knight\n",
       "37937                                        Dying Is Easy\n",
       "9003                                        Batman Forever\n",
       "34967                                         Batman Ninja\n",
       "36985                       LEGO DC Batman: Family Matters\n",
       "2277                                      The Seventh Seal\n",
       "14592                               Get Rich or Die Tryin'\n",
       "27059    Masterpiece: Frank Miller's the Dark Knight Re...\n",
       "8435                          Batman: Mask of the Phantasm\n",
       "26494                   Batman v Superman: Dawn of Justice\n",
       "Name: Title, dtype: object"
      ]
     },
     "execution_count": 8,
     "metadata": {},
     "output_type": "execute_result"
    }
   ],
   "source": [
    "get_recommendations('The Dark Knight Rises')"
   ]
  },
  {
   "cell_type": "code",
   "execution_count": null,
   "id": "c981c694",
   "metadata": {},
   "outputs": [],
   "source": []
  }
 ],
 "metadata": {
  "kernelspec": {
   "display_name": "Python 3 (ipykernel)",
   "language": "python",
   "name": "python3"
  },
  "language_info": {
   "codemirror_mode": {
    "name": "ipython",
    "version": 3
   },
   "file_extension": ".py",
   "mimetype": "text/x-python",
   "name": "python",
   "nbconvert_exporter": "python",
   "pygments_lexer": "ipython3",
   "version": "3.7.6"
  }
 },
 "nbformat": 4,
 "nbformat_minor": 5
}
